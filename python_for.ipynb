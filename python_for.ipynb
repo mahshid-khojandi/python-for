{
  "nbformat": 4,
  "nbformat_minor": 0,
  "metadata": {
    "colab": {
      "provenance": [],
      "authorship_tag": "ABX9TyOJ5aXccteQR99wBuuJCN6A",
      "include_colab_link": true
    },
    "kernelspec": {
      "name": "python3",
      "display_name": "Python 3"
    },
    "language_info": {
      "name": "python"
    }
  },
  "cells": [
    {
      "cell_type": "markdown",
      "metadata": {
        "id": "view-in-github",
        "colab_type": "text"
      },
      "source": [
        "<a href=\"https://colab.research.google.com/github/mahshid-khojandi/python-for/blob/main/python_for.ipynb\" target=\"_parent\"><img src=\"https://colab.research.google.com/assets/colab-badge.svg\" alt=\"Open In Colab\"/></a>"
      ]
    },
    {
      "cell_type": "markdown",
      "source": [
        "The for loop in Python is used to iterables through sequences or other iterable objects to access individual items."
      ],
      "metadata": {
        "id": "JYz16oBPijOg"
      }
    },
    {
      "cell_type": "code",
      "source": [
        "# syntax:\n",
        "# for [val] in [sequence]:\n",
        "#    [do something]"
      ],
      "metadata": {
        "id": "wNEREH14i6SG"
      },
      "execution_count": null,
      "outputs": []
    },
    {
      "cell_type": "code",
      "source": [
        "names = ['a', 'b', 'c', 'd']\n",
        "for name in names:\n",
        "\tprint(name)"
      ],
      "metadata": {
        "colab": {
          "base_uri": "https://localhost:8080/"
        },
        "id": "imSGymCUjBr_",
        "outputId": "4d1db71f-0f01-4eb6-d03d-52434133ab1f"
      },
      "execution_count": 1,
      "outputs": [
        {
          "output_type": "stream",
          "name": "stdout",
          "text": [
            "a\n",
            "b\n",
            "c\n",
            "d\n"
          ]
        }
      ]
    },
    {
      "cell_type": "markdown",
      "source": [
        "With Python's range function, we can create a sequence of numbers\n",
        "\n",
        "range(start, stop, step)"
      ],
      "metadata": {
        "id": "J5KQsBD0jako"
      }
    },
    {
      "cell_type": "code",
      "source": [
        "genre = ['pop', 'rock', 'jazz']\n",
        "for i in range(len(genre)):\n",
        "    print(\"I like\", genre[i])\n"
      ],
      "metadata": {
        "colab": {
          "base_uri": "https://localhost:8080/"
        },
        "id": "qlqyfydgjbZW",
        "outputId": "52a26a9e-f1ff-4c6c-8568-d4a79fb593a7"
      },
      "execution_count": 3,
      "outputs": [
        {
          "output_type": "stream",
          "name": "stdout",
          "text": [
            "I like pop\n",
            "I like rock\n",
            "I like jazz\n"
          ]
        }
      ]
    },
    {
      "cell_type": "code",
      "source": [
        "numbers = [1, 2, 3]\n",
        "\n",
        "for i in numbers:\n",
        "    print(i)\n",
        "else:\n",
        "    print(\"No items left.\")"
      ],
      "metadata": {
        "colab": {
          "base_uri": "https://localhost:8080/"
        },
        "id": "XMqjr_lpj0M8",
        "outputId": "b809ffc4-43ba-47eb-dab2-dc7aa68fd27f"
      },
      "execution_count": 2,
      "outputs": [
        {
          "output_type": "stream",
          "name": "stdout",
          "text": [
            "1\n",
            "2\n",
            "3\n",
            "No items left.\n"
          ]
        }
      ]
    },
    {
      "cell_type": "markdown",
      "source": [
        "**Nested** **for** **loop** **in** **Python**\n",
        "\n",
        "Nested loops are called loops that are inside each other\n",
        "The way the nested loop works is that every time the outer loop rotates, the inner loop completes its rotations."
      ],
      "metadata": {
        "id": "5pATkZTdkLRQ"
      }
    },
    {
      "cell_type": "code",
      "source": [
        "n = [\"1\", \"2\", \"3\"]\n",
        "fruits = [\"apple\", \"banana\", \"cherry\"]\n",
        "\n",
        "for x in n:\n",
        "    for y in fruits:\n",
        "        print(x, y)"
      ],
      "metadata": {
        "colab": {
          "base_uri": "https://localhost:8080/"
        },
        "id": "VvP2MUQ4ksgh",
        "outputId": "53c1727c-7ac5-4153-8ebd-d4f9b4f02ebc"
      },
      "execution_count": 5,
      "outputs": [
        {
          "output_type": "stream",
          "name": "stdout",
          "text": [
            "1 apple\n",
            "1 banana\n",
            "1 cherry\n",
            "2 apple\n",
            "2 banana\n",
            "2 cherry\n",
            "3 apple\n",
            "3 banana\n",
            "3 cherry\n"
          ]
        }
      ]
    },
    {
      "cell_type": "markdown",
      "source": [
        "In Python, you can use the **continue** command to skip one round of the loop and go to the next round of the loop."
      ],
      "metadata": {
        "id": "Pc-3w0p0lCrn"
      }
    },
    {
      "cell_type": "code",
      "source": [
        "for number in range(1, 11):\n",
        "    if number % 2 == 0:\n",
        "        continue\n",
        "    print(number)"
      ],
      "metadata": {
        "colab": {
          "base_uri": "https://localhost:8080/"
        },
        "id": "AcGvdtUFlIdz",
        "outputId": "906b88e4-4e7b-4910-e976-089711c7659a"
      },
      "execution_count": 6,
      "outputs": [
        {
          "output_type": "stream",
          "name": "stdout",
          "text": [
            "1\n",
            "3\n",
            "5\n",
            "7\n",
            "9\n"
          ]
        }
      ]
    },
    {
      "cell_type": "markdown",
      "source": [
        "The **break** command stops the execution of the entire for loop"
      ],
      "metadata": {
        "id": "6dPyIMBrlXc_"
      }
    },
    {
      "cell_type": "code",
      "source": [
        "animals = [\"monkey\", \"lion\", \"elephant\", \"rhino\", \"jackal\"]\n",
        "for animal in animals:\n",
        "    if animal == \"elephant\":\n",
        "        print(\"elephant found. Terminating the loop\")\n",
        "        break\n",
        "    print(animal)"
      ],
      "metadata": {
        "colab": {
          "base_uri": "https://localhost:8080/"
        },
        "id": "BK6-ZTC9lcLY",
        "outputId": "a90246fb-9da6-4cb1-a8be-592507717a4f"
      },
      "execution_count": 7,
      "outputs": [
        {
          "output_type": "stream",
          "name": "stdout",
          "text": [
            "monkey\n",
            "lion\n",
            "elephant found. Terminating the loop\n"
          ]
        }
      ]
    }
  ]
}